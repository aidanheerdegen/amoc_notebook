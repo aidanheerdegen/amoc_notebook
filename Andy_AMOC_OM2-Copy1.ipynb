{
 "cells": [
  {
   "cell_type": "code",
   "execution_count": 1,
   "metadata": {},
   "outputs": [
    {
     "name": "stdout",
     "output_type": "stream",
     "text": [
      "netcdf_index loaded.\n"
     ]
    },
    {
     "name": "stderr",
     "output_type": "stream",
     "text": [
      "/g/data3/hh5/public/apps/miniconda3/envs/analysis3-19.01/lib/python3.6/site-packages/dask/config.py:168: YAMLLoadWarning: calling yaml.load() without Loader=... is deprecated, as the default Loader is unsafe. Please read https://msg.pyyaml.org/load for full details.\n",
      "  data = yaml.load(f.read()) or {}\n",
      "/g/data3/hh5/public/apps/miniconda3/envs/analysis3-19.01/lib/python3.6/site-packages/distributed/config.py:20: YAMLLoadWarning: calling yaml.load() without Loader=... is deprecated, as the default Loader is unsafe. Please read https://msg.pyyaml.org/load for full details.\n",
      "  defaults = yaml.load(f)\n"
     ]
    }
   ],
   "source": [
    "%matplotlib inline\n",
    "\n",
    "import cosima_cookbook as cc\n",
    "import xarray as xr\n",
    "import numpy as np\n",
    "import sys, os\n",
    "\n",
    "from dask.distributed import Client"
   ]
  },
  {
   "cell_type": "code",
   "execution_count": 2,
   "metadata": {},
   "outputs": [
    {
     "name": "stdout",
     "output_type": "stream",
     "text": [
      "/g/data1/v45/pas561/access-om2_amoc/om2_01_amoc_mask.nc\n"
     ]
    },
    {
     "data": {
      "text/plain": [
       "<xarray.DataArray 'kmu' (grid_yu_ocean: 2700, grid_xt_ocean: 3600)>\n",
       "dask.array<shape=(2700, 3600), dtype=float32, chunksize=(270, 360)>\n",
       "Coordinates:\n",
       "  * grid_xt_ocean  (grid_xt_ocean) float64 -279.9 -279.8 -279.7 ... 79.9 80.0\n",
       "  * grid_yu_ocean  (grid_yu_ocean) float64 -81.09 -81.05 -81.0 ... 89.96 90.0\n",
       "Attributes:\n",
       "    long_name:     number of depth levels on u-grid\n",
       "    units:         dimensionless\n",
       "    valid_range:   [-1.e+01  1.e+09]\n",
       "    cell_methods:  time: point\n",
       "    coordinates:   geolon_c geolat_c"
      ]
     },
     "execution_count": 2,
     "metadata": {},
     "output_type": "execute_result"
    }
   ],
   "source": [
    "NYFCntrlDir = '/g/data1/v45/pas561/access-om2_amoc/'\n",
    "Ocean_File = os.path.join(NYFCntrlDir,'om2_01_amoc_mask.nc')\n",
    "print(Ocean_File)\n",
    "cntrl=xr.open_dataset(Ocean_File,engine='netcdf4',decode_times=False)\n",
    "mask=cntrl.kmu.chunk({'xu_ocean':360,'yu_ocean':270}).rename({'xu_ocean':'grid_xt_ocean', 'yu_ocean':'grid_yu_ocean'})\n",
    "mask"
   ]
  },
  {
   "cell_type": "code",
   "execution_count": 3,
   "metadata": {},
   "outputs": [
    {
     "data": {
      "text/plain": [
       "<matplotlib.collections.QuadMesh at 0x7f12282987b8>"
      ]
     },
     "execution_count": 3,
     "metadata": {},
     "output_type": "execute_result"
    },
    {
     "data": {
      "image/png": "[encoded data removed]",
      "text/plain": [
       "<Figure size 864x576 with 2 Axes>"
      ]
     },
     "metadata": {
      "needs_background": "light"
     },
     "output_type": "display_data"
    }
   ],
   "source": [
    "mask.plot(size=8)"
   ]
  },
  {
   "cell_type": "code",
   "execution_count": 4,
   "metadata": {},
   "outputs": [
    {
     "name": "stdout",
     "output_type": "stream",
     "text": [
      "Using database sqlite:////g/data3/hh5/tmp/cosima/cosima-cookbook/cosima-cookbook.db\n"
     ]
    },
    {
     "name": "stderr",
     "output_type": "stream",
     "text": [
      "/g/data3/hh5/public/apps/miniconda3/envs/analysis3-19.01/lib/python3.6/site-packages/dask/compatibility.py:93: FutureWarning: The autoclose argument is no longer used by xarray.open_dataset() and is now ignored; it will be removed in a future version of xarray. If necessary, you can control the maximum number of simultaneous open files with xarray.set_options(file_cache_maxsize=...).\n",
      "  return func(*args, **kwargs)\n"
     ]
    }
   ],
   "source": [
    "expt = '01deg_jra55v13_iaf'\n",
    "n_files = None                          ## For Testing\n",
    "time_units = 'days since 0001-01-01'   ## These are to give correct dates\n",
    "offset = None\n",
    "\n",
    "psi = cc.get_nc_variable(expt,'ocean.nc','ty_trans_rho',\n",
    "                                        n=n_files,time_units=time_units, offset=offset)"
   ]
  },
  {
   "cell_type": "code",
   "execution_count": 5,
   "metadata": {},
   "outputs": [
    {
     "data": {
      "text/plain": [
       "<xarray.DataArray 'ty_trans_rho' (time: 396, potrho: 80, grid_yu_ocean: 2700, grid_xt_ocean: 3600)>\n",
       "dask.array<shape=(396, 80, 2700, 3600), dtype=float32, chunksize=(1, 8, 270, 360)>\n",
       "Coordinates:\n",
       "  * potrho         (potrho) float64 1.028e+03 1.028e+03 ... 1.038e+03 1.038e+03\n",
       "  * grid_yu_ocean  (grid_yu_ocean) float64 -81.09 -81.05 -81.0 ... 89.96 90.0\n",
       "  * grid_xt_ocean  (grid_xt_ocean) float64 -279.9 -279.8 -279.7 ... 79.85 79.95\n",
       "  * time           (time) datetime64[ns] 1985-01-14T12:00:00 ... 2017-12-14T12:00:00\n",
       "Attributes:\n",
       "    long_name:      T-cell j-mass transport on pot_rho\n",
       "    units:          kg/s\n",
       "    valid_range:    [-1.e+20  1.e+20]\n",
       "    cell_methods:   time: mean\n",
       "    time_avg_info:  average_T1,average_T2,average_DT"
      ]
     },
     "execution_count": 5,
     "metadata": {},
     "output_type": "execute_result"
    }
   ],
   "source": [
    "psi"
   ]
  },
  {
   "cell_type": "code",
   "execution_count": 6,
   "metadata": {},
   "outputs": [
    {
     "name": "stdout",
     "output_type": "stream",
     "text": [
      "CPU times: user 607 ms, sys: 0 ns, total: 607 ms\n",
      "Wall time: 625 ms\n"
     ]
    },
    {
     "data": {
      "text/plain": [
       "<xarray.DataArray 'ty_trans_rho' (time: 33, potrho: 80, grid_yu_ocean: 2700)>\n",
       "dask.array<shape=(33, 80, 2700), dtype=float32, chunksize=(1, 8, 270)>\n",
       "Coordinates:\n",
       "  * time           (time) datetime64[ns] 1985-12-31 1986-12-31 ... 2017-12-31\n",
       "  * potrho         (potrho) float64 1.028e+03 1.028e+03 ... 1.038e+03 1.038e+03\n",
       "  * grid_yu_ocean  (grid_yu_ocean) float64 -81.09 -81.05 -81.0 ... 89.96 90.0"
      ]
     },
     "execution_count": 6,
     "metadata": {},
     "output_type": "execute_result"
    }
   ],
   "source": [
    "%time psi = psi.where(mask>0).resample(time='A').mean('time').sum('grid_xt_ocean')*1.0e-9\n",
    "psi"
   ]
  },
  {
   "cell_type": "code",
   "execution_count": 8,
   "metadata": {},
   "outputs": [
    {
     "name": "stderr",
     "output_type": "stream",
     "text": [
      "/g/data3/hh5/public/apps/miniconda3/envs/analysis3-19.01/lib/python3.6/site-packages/dask/core.py:119: RuntimeWarning: invalid value encountered in greater\n",
      "  return func(*args2)\n"
     ]
    },
    {
     "name": "stdout",
     "output_type": "stream",
     "text": [
      "CPU times: user 2min 25s, sys: 35.2 s, total: 3min\n",
      "Wall time: 2min 25s\n"
     ]
    }
   ],
   "source": [
    "%time (psi.cumsum('potrho') -  psi.sum('potrho')).to_netcdf('AMOC_rho_adv_01deg.nc')"
   ]
  },
  {
   "cell_type": "code",
   "execution_count": null,
   "metadata": {},
   "outputs": [],
   "source": []
  }
 ],
 "metadata": {
  "kernelspec": {
   "display_name": "Python [conda env:analysis3-19.01] *",
   "language": "python",
   "name": "conda-env-analysis3-19.01-py"
  },
  "language_info": {
   "codemirror_mode": {
    "name": "ipython",
    "version": 3
   },
   "file_extension": ".py",
   "mimetype": "text/x-python",
   "name": "python",
   "nbconvert_exporter": "python",
   "pygments_lexer": "ipython3",
   "version": "3.6.7"
  }
 },
 "nbformat": 4,
 "nbformat_minor": 2
}
